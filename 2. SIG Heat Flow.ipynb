{
 "cells": [
  {
   "cell_type": "markdown",
   "metadata": {
    "id": "xTgW9Tjig1rn"
   },
   "source": [
    "# SIG "
   ]
  },
  {
   "cell_type": "code",
   "execution_count": 1,
   "metadata": {
    "colab": {
     "base_uri": "https://localhost:8080/"
    },
    "executionInfo": {
     "elapsed": 6226,
     "status": "ok",
     "timestamp": 1607916046039,
     "user": {
      "displayName": "Giovanny Alejandro C. Londono",
      "photoUrl": "https://lh3.googleusercontent.com/a-/AOh14Gg8qR994zMuGAo8zu82tYlP-H_HfxV5MXsT1ZI0kg=s64",
      "userId": "17663649836641339783"
     },
     "user_tz": 300
    },
    "id": "HLHYJN6fCMKr",
    "outputId": "4cb84839-b31b-40ba-dc89-bf06bb2b09e3"
   },
   "outputs": [
    {
     "name": "stdout",
     "output_type": "stream",
     "text": [
      "Requirement already satisfied: rasterio in /usr/local/lib/python3.6/dist-packages (1.1.8)\n",
      "Requirement already satisfied: numpy in /usr/local/lib/python3.6/dist-packages (from rasterio) (1.18.5)\n",
      "Requirement already satisfied: snuggs>=1.4.1 in /usr/local/lib/python3.6/dist-packages (from rasterio) (1.4.7)\n",
      "Requirement already satisfied: click-plugins in /usr/local/lib/python3.6/dist-packages (from rasterio) (1.1.1)\n",
      "Requirement already satisfied: affine in /usr/local/lib/python3.6/dist-packages (from rasterio) (2.3.0)\n",
      "Requirement already satisfied: click<8,>=4.0 in /usr/local/lib/python3.6/dist-packages (from rasterio) (7.1.2)\n",
      "Requirement already satisfied: cligj>=0.5 in /usr/local/lib/python3.6/dist-packages (from rasterio) (0.7.1)\n",
      "Requirement already satisfied: attrs in /usr/local/lib/python3.6/dist-packages (from rasterio) (20.3.0)\n",
      "Requirement already satisfied: pyparsing>=2.1.6 in /usr/local/lib/python3.6/dist-packages (from snuggs>=1.4.1->rasterio) (2.4.7)\n",
      "Requirement already satisfied: earthpy in /usr/local/lib/python3.6/dist-packages (0.9.2)\n",
      "Requirement already satisfied: scikit-image in /usr/local/lib/python3.6/dist-packages (from earthpy) (0.16.2)\n",
      "Requirement already satisfied: numpy>=1.14.0 in /usr/local/lib/python3.6/dist-packages (from earthpy) (1.18.5)\n",
      "Requirement already satisfied: geopandas in /usr/local/lib/python3.6/dist-packages (from earthpy) (0.8.1)\n",
      "Requirement already satisfied: matplotlib>=2.0.0 in /usr/local/lib/python3.6/dist-packages (from earthpy) (3.2.2)\n",
      "Requirement already satisfied: requests in /usr/local/lib/python3.6/dist-packages (from earthpy) (2.23.0)\n",
      "Requirement already satisfied: rasterio in /usr/local/lib/python3.6/dist-packages (from earthpy) (1.1.8)\n",
      "Requirement already satisfied: scipy>=0.19.0 in /usr/local/lib/python3.6/dist-packages (from scikit-image->earthpy) (1.4.1)\n",
      "Requirement already satisfied: networkx>=2.0 in /usr/local/lib/python3.6/dist-packages (from scikit-image->earthpy) (2.5)\n",
      "Requirement already satisfied: pillow>=4.3.0 in /usr/local/lib/python3.6/dist-packages (from scikit-image->earthpy) (7.0.0)\n",
      "Requirement already satisfied: imageio>=2.3.0 in /usr/local/lib/python3.6/dist-packages (from scikit-image->earthpy) (2.4.1)\n",
      "Requirement already satisfied: PyWavelets>=0.4.0 in /usr/local/lib/python3.6/dist-packages (from scikit-image->earthpy) (1.1.1)\n",
      "Requirement already satisfied: pandas>=0.23.0 in /usr/local/lib/python3.6/dist-packages (from geopandas->earthpy) (1.1.5)\n",
      "Requirement already satisfied: shapely in /usr/local/lib/python3.6/dist-packages (from geopandas->earthpy) (1.7.1)\n",
      "Requirement already satisfied: pyproj>=2.2.0 in /usr/local/lib/python3.6/dist-packages (from geopandas->earthpy) (3.0.0.post1)\n",
      "Requirement already satisfied: fiona in /usr/local/lib/python3.6/dist-packages (from geopandas->earthpy) (1.8.18)\n",
      "Requirement already satisfied: python-dateutil>=2.1 in /usr/local/lib/python3.6/dist-packages (from matplotlib>=2.0.0->earthpy) (2.8.1)\n",
      "Requirement already satisfied: cycler>=0.10 in /usr/local/lib/python3.6/dist-packages (from matplotlib>=2.0.0->earthpy) (0.10.0)\n",
      "Requirement already satisfied: pyparsing!=2.0.4,!=2.1.2,!=2.1.6,>=2.0.1 in /usr/local/lib/python3.6/dist-packages (from matplotlib>=2.0.0->earthpy) (2.4.7)\n",
      "Requirement already satisfied: kiwisolver>=1.0.1 in /usr/local/lib/python3.6/dist-packages (from matplotlib>=2.0.0->earthpy) (1.3.1)\n",
      "Requirement already satisfied: idna<3,>=2.5 in /usr/local/lib/python3.6/dist-packages (from requests->earthpy) (2.10)\n",
      "Requirement already satisfied: chardet<4,>=3.0.2 in /usr/local/lib/python3.6/dist-packages (from requests->earthpy) (3.0.4)\n",
      "Requirement already satisfied: certifi>=2017.4.17 in /usr/local/lib/python3.6/dist-packages (from requests->earthpy) (2020.12.5)\n",
      "Requirement already satisfied: urllib3!=1.25.0,!=1.25.1,<1.26,>=1.21.1 in /usr/local/lib/python3.6/dist-packages (from requests->earthpy) (1.24.3)\n",
      "Requirement already satisfied: snuggs>=1.4.1 in /usr/local/lib/python3.6/dist-packages (from rasterio->earthpy) (1.4.7)\n",
      "Requirement already satisfied: attrs in /usr/local/lib/python3.6/dist-packages (from rasterio->earthpy) (20.3.0)\n",
      "Requirement already satisfied: click-plugins in /usr/local/lib/python3.6/dist-packages (from rasterio->earthpy) (1.1.1)\n",
      "Requirement already satisfied: cligj>=0.5 in /usr/local/lib/python3.6/dist-packages (from rasterio->earthpy) (0.7.1)\n",
      "Requirement already satisfied: click<8,>=4.0 in /usr/local/lib/python3.6/dist-packages (from rasterio->earthpy) (7.1.2)\n",
      "Requirement already satisfied: affine in /usr/local/lib/python3.6/dist-packages (from rasterio->earthpy) (2.3.0)\n",
      "Requirement already satisfied: decorator>=4.3.0 in /usr/local/lib/python3.6/dist-packages (from networkx>=2.0->scikit-image->earthpy) (4.4.2)\n",
      "Requirement already satisfied: pytz>=2017.2 in /usr/local/lib/python3.6/dist-packages (from pandas>=0.23.0->geopandas->earthpy) (2018.9)\n",
      "Requirement already satisfied: munch in /usr/local/lib/python3.6/dist-packages (from fiona->geopandas->earthpy) (2.5.0)\n",
      "Requirement already satisfied: six>=1.7 in /usr/local/lib/python3.6/dist-packages (from fiona->geopandas->earthpy) (1.15.0)\n"
     ]
    }
   ],
   "source": [
    "! pip install rasterio\n",
    "! pip install earthpy"
   ]
  },
  {
   "cell_type": "code",
   "execution_count": 2,
   "metadata": {
    "executionInfo": {
     "elapsed": 6546,
     "status": "ok",
     "timestamp": 1607916046369,
     "user": {
      "displayName": "Giovanny Alejandro C. Londono",
      "photoUrl": "https://lh3.googleusercontent.com/a-/AOh14Gg8qR994zMuGAo8zu82tYlP-H_HfxV5MXsT1ZI0kg=s64",
      "userId": "17663649836641339783"
     },
     "user_tz": 300
    },
    "id": "SZ_xYova3DGe"
   },
   "outputs": [],
   "source": [
    "import rasterio as rio\n",
    "import earthpy.plot as ep\n",
    "import numpy as np\n",
    "import pandas as pd\n",
    "import geopandas as gpd\n",
    "import matplotlib.pyplot as plt\n"
   ]
  },
  {
   "cell_type": "markdown",
   "metadata": {
    "id": "Av8AP2aKSbLX"
   },
   "source": [
    "## Cargamos el Raster Grosor sedimentario\n",
    "---\n",
    "Para esto utlizamos en paquete Rasterio y con numpy hacemos las correciones necesarias como quitar valores núlos y en el caso de las edades corregir los decimales de las edades para que queden en un rango global 0 - 280"
   ]
  },
  {
   "cell_type": "code",
   "execution_count": 3,
   "metadata": {
    "executionInfo": {
     "elapsed": 6541,
     "status": "ok",
     "timestamp": 1607916046370,
     "user": {
      "displayName": "Giovanny Alejandro C. Londono",
      "photoUrl": "https://lh3.googleusercontent.com/a-/AOh14Gg8qR994zMuGAo8zu82tYlP-H_HfxV5MXsT1ZI0kg=s64",
      "userId": "17663649836641339783"
     },
     "user_tz": 300
    },
    "id": "FRaXTYuo95pW"
   },
   "outputs": [],
   "source": [
    "#Cargamos el tiff de grosor sedimentarios de la cuenca Panamá\n",
    "thickness_sed = rio.open('thickness_sed1.tif')"
   ]
  },
  {
   "cell_type": "code",
   "execution_count": 4,
   "metadata": {
    "colab": {
     "base_uri": "https://localhost:8080/"
    },
    "executionInfo": {
     "elapsed": 6534,
     "status": "ok",
     "timestamp": 1607916046372,
     "user": {
      "displayName": "Giovanny Alejandro C. Londono",
      "photoUrl": "https://lh3.googleusercontent.com/a-/AOh14Gg8qR994zMuGAo8zu82tYlP-H_HfxV5MXsT1ZI0kg=s64",
      "userId": "17663649836641339783"
     },
     "user_tz": 300
    },
    "id": "8JEJyB2UAszT",
    "outputId": "c3179c08-bc5c-409b-8c82-e689d49d0450"
   },
   "outputs": [
    {
     "data": {
      "text/plain": [
       "BoundingBox(left=-102.88206326184, bottom=-2.766261613718939, right=-76.632063261945, top=7.983738386238061)"
      ]
     },
     "execution_count": 4,
     "metadata": {
      "tags": []
     },
     "output_type": "execute_result"
    }
   ],
   "source": [
    "#miramos las cordenadas del raster cargado grosor sedimentario\n",
    "thickness_sed.bounds"
   ]
  },
  {
   "cell_type": "code",
   "execution_count": 5,
   "metadata": {
    "colab": {
     "base_uri": "https://localhost:8080/",
     "height": 185
    },
    "executionInfo": {
     "elapsed": 6522,
     "status": "ok",
     "timestamp": 1607916046373,
     "user": {
      "displayName": "Giovanny Alejandro C. Londono",
      "photoUrl": "https://lh3.googleusercontent.com/a-/AOh14Gg8qR994zMuGAo8zu82tYlP-H_HfxV5MXsT1ZI0kg=s64",
      "userId": "17663649836641339783"
     },
     "user_tz": 300
    },
    "id": "OUpcG4QMCajV",
    "outputId": "d40041bb-36d1-4f1f-aa59-f97ea10d5121"
   },
   "outputs": [
    {
     "data": {
      "image/png": "[encoded data removed]",
      "text/plain": [
       "<Figure size 432x288 with 1 Axes>"
      ]
     },
     "metadata": {
      "needs_background": "light",
      "tags": []
     },
     "output_type": "display_data"
    }
   ],
   "source": [
    "#también puede ser viasualizado con rasterio\n",
    "from rasterio.plot import show\n",
    "show(thickness_sed);\n"
   ]
  },
  {
   "cell_type": "code",
   "execution_count": 6,
   "metadata": {
    "colab": {
     "base_uri": "https://localhost:8080/"
    },
    "executionInfo": {
     "elapsed": 6510,
     "status": "ok",
     "timestamp": 1607916046374,
     "user": {
      "displayName": "Giovanny Alejandro C. Londono",
      "photoUrl": "https://lh3.googleusercontent.com/a-/AOh14Gg8qR994zMuGAo8zu82tYlP-H_HfxV5MXsT1ZI0kg=s64",
      "userId": "17663649836641339783"
     },
     "user_tz": 300
    },
    "id": "Q6Ar5-LyFjzf",
    "outputId": "7fd6e231-7bb9-4feb-d046-fd1e295b16f5"
   },
   "outputs": [
    {
     "name": "stdout",
     "output_type": "stream",
     "text": [
      "Mean: 232.97592\n",
      "Max: 4627.339\n",
      "Min: 0.0\n"
     ]
    }
   ],
   "source": [
    "# Masked = True sets no data values to np.nan if they are in the metadata\n",
    "thickness_sed_data = thickness_sed.read(1, masked=True) #convierte nuestro raster en un arreglo numpy\n",
    "thickness_sed_meta = thickness_sed.profile\n",
    "# EXPLORE: View summary statistics of canopy height model\n",
    "# Notice the mean value with 0's included in the data\n",
    "print('Mean:', np.nanmean(thickness_sed_data))\n",
    "print('Max:', np.nanmax(thickness_sed_data))\n",
    "print('Min:', np.nanmin(thickness_sed_data))"
   ]
  },
  {
   "cell_type": "code",
   "execution_count": 7,
   "metadata": {
    "colab": {
     "base_uri": "https://localhost:8080/",
     "height": 601
    },
    "executionInfo": {
     "elapsed": 6793,
     "status": "ok",
     "timestamp": 1607916046670,
     "user": {
      "displayName": "Giovanny Alejandro C. Londono",
      "photoUrl": "https://lh3.googleusercontent.com/a-/AOh14Gg8qR994zMuGAo8zu82tYlP-H_HfxV5MXsT1ZI0kg=s64",
      "userId": "17663649836641339783"
     },
     "user_tz": 300
    },
    "id": "Jr1LY61rC8NP",
    "outputId": "2be9b5ca-8453-4454-b771-ef8a3bfb1607"
   },
   "outputs": [
    {
     "name": "stderr",
     "output_type": "stream",
     "text": [
      "/usr/local/lib/python3.6/dist-packages/numpy/lib/histograms.py:839: RuntimeWarning: invalid value encountered in greater_equal\n",
      "  keep = (tmp_a >= first_edge)\n",
      "/usr/local/lib/python3.6/dist-packages/numpy/lib/histograms.py:840: RuntimeWarning: invalid value encountered in less_equal\n",
      "  keep &= (tmp_a <= last_edge)\n"
     ]
    },
    {
     "data": {
      "image/png": "[encoded data removed]",
      "text/plain": [
       "<Figure size 576x576 with 1 Axes>"
      ]
     },
     "metadata": {
      "needs_background": "light",
      "tags": []
     },
     "output_type": "display_data"
    }
   ],
   "source": [
    "# Explore the data by plotting a histogram with earthpy\n",
    "ax=ep.hist(thickness_sed_data,\n",
    "           figsize=(8,8), \n",
    "           colors=\"blue\", \n",
    "           xlabel=\"Grosor sedimentario (m)\", \n",
    "           ylabel=\"Total Pixels\", \n",
    "           title=\"Histograma de Grosor Sedimentario\");"
   ]
  },
  {
   "cell_type": "code",
   "execution_count": 8,
   "metadata": {
    "colab": {
     "base_uri": "https://localhost:8080/"
    },
    "executionInfo": {
     "elapsed": 6783,
     "status": "ok",
     "timestamp": 1607916046671,
     "user": {
      "displayName": "Giovanny Alejandro C. Londono",
      "photoUrl": "https://lh3.googleusercontent.com/a-/AOh14Gg8qR994zMuGAo8zu82tYlP-H_HfxV5MXsT1ZI0kg=s64",
      "userId": "17663649836641339783"
     },
     "user_tz": 300
    },
    "id": "lXAKQYUqQFyp",
    "outputId": "419602bb-2dca-4a14-a331-39c1b5813226"
   },
   "outputs": [
    {
     "name": "stdout",
     "output_type": "stream",
     "text": [
      "Mean: 233.00099\n",
      "Max: 4627.339\n",
      "Min: 7.730707e-12\n"
     ]
    }
   ],
   "source": [
    "# CLEANUP: Set CHM values of 0 to NAN (no data or not a number)\n",
    "thickness_sed_data[thickness_sed_data == 0] = np.nan\n",
    "\n",
    "# View summary statistics of canopy height model after cleaning up the data\n",
    "print('Mean:', np.nanmean(thickness_sed_data))\n",
    "print('Max:', np.nanmax(thickness_sed_data))\n",
    "print('Min:', np.nanmin(thickness_sed_data))"
   ]
  },
  {
   "cell_type": "code",
   "execution_count": 9,
   "metadata": {
    "colab": {
     "base_uri": "https://localhost:8080/",
     "height": 601
    },
    "executionInfo": {
     "elapsed": 7211,
     "status": "ok",
     "timestamp": 1607916047114,
     "user": {
      "displayName": "Giovanny Alejandro C. Londono",
      "photoUrl": "https://lh3.googleusercontent.com/a-/AOh14Gg8qR994zMuGAo8zu82tYlP-H_HfxV5MXsT1ZI0kg=s64",
      "userId": "17663649836641339783"
     },
     "user_tz": 300
    },
    "id": "I4aaUi3IQgkL",
    "outputId": "a1d1b13b-0507-4025-8e6c-25870d0051c2"
   },
   "outputs": [
    {
     "name": "stderr",
     "output_type": "stream",
     "text": [
      "/usr/local/lib/python3.6/dist-packages/numpy/lib/histograms.py:839: RuntimeWarning: invalid value encountered in greater_equal\n",
      "  keep = (tmp_a >= first_edge)\n",
      "/usr/local/lib/python3.6/dist-packages/numpy/lib/histograms.py:840: RuntimeWarning: invalid value encountered in less_equal\n",
      "  keep &= (tmp_a <= last_edge)\n"
     ]
    },
    {
     "data": {
      "image/png": "[encoded data removed]",
      "text/plain": [
       "<Figure size 576x576 with 1 Axes>"
      ]
     },
     "metadata": {
      "needs_background": "light",
      "tags": []
     },
     "output_type": "display_data"
    }
   ],
   "source": [
    "# Este histograma muestra los valores de px habiendo quitado los valores nulos\n",
    "ax=ep.hist(thickness_sed_data,\n",
    "           figsize=(8,8), \n",
    "           colors=\"purple\", \n",
    "           xlabel=\"Grosor sedimentario (m)\", \n",
    "           ylabel=\"Total Pixels\", \n",
    "           title=\"Histograma de Grosor Sedimentario\");"
   ]
  },
  {
   "cell_type": "markdown",
   "metadata": {
    "id": "d1CleBxfQ5n5"
   },
   "source": [
    "Sin embargo no se observa gran diferencia al remover los valores nulos entre el primer histograma (Azul) y el segundo (Purpura)"
   ]
  },
  {
   "cell_type": "markdown",
   "metadata": {
    "id": "fZtiNNXGtiux"
   },
   "source": [
    "## Cargamos el Raster de Edad\n",
    "---\n",
    "Para esto utlizamos en paquete Rasterio"
   ]
  },
  {
   "cell_type": "code",
   "execution_count": 10,
   "metadata": {
    "executionInfo": {
     "elapsed": 7205,
     "status": "ok",
     "timestamp": 1607916047117,
     "user": {
      "displayName": "Giovanny Alejandro C. Londono",
      "photoUrl": "https://lh3.googleusercontent.com/a-/AOh14Gg8qR994zMuGAo8zu82tYlP-H_HfxV5MXsT1ZI0kg=s64",
      "userId": "17663649836641339783"
     },
     "user_tz": 300
    },
    "id": "qdh-lpwHi-AC"
   },
   "outputs": [],
   "source": [
    "#Cargamos el tiff de edades de piso oceánico de la cuenca Panamá\n",
    "Edad = rio.open('edad1.tif')"
   ]
  },
  {
   "cell_type": "code",
   "execution_count": 11,
   "metadata": {
    "colab": {
     "base_uri": "https://localhost:8080/"
    },
    "executionInfo": {
     "elapsed": 7200,
     "status": "ok",
     "timestamp": 1607916047120,
     "user": {
      "displayName": "Giovanny Alejandro C. Londono",
      "photoUrl": "https://lh3.googleusercontent.com/a-/AOh14Gg8qR994zMuGAo8zu82tYlP-H_HfxV5MXsT1ZI0kg=s64",
      "userId": "17663649836641339783"
     },
     "user_tz": 300
    },
    "id": "d72h6MB1jE5b",
    "outputId": "ee29d24e-fd34-4aec-c1a2-2b43dbd255b0"
   },
   "outputs": [
    {
     "data": {
      "text/plain": [
       "BoundingBox(left=-102.88206326184, bottom=-2.766261613718939, right=-76.58206326184, top=8.033738386281062)"
      ]
     },
     "execution_count": 11,
     "metadata": {
      "tags": []
     },
     "output_type": "execute_result"
    }
   ],
   "source": [
    "#miramos las cordenadas del raster cargado edades\n",
    "Edad.bounds"
   ]
  },
  {
   "cell_type": "code",
   "execution_count": 12,
   "metadata": {
    "colab": {
     "base_uri": "https://localhost:8080/",
     "height": 189
    },
    "executionInfo": {
     "elapsed": 7506,
     "status": "ok",
     "timestamp": 1607916047439,
     "user": {
      "displayName": "Giovanny Alejandro C. Londono",
      "photoUrl": "https://lh3.googleusercontent.com/a-/AOh14Gg8qR994zMuGAo8zu82tYlP-H_HfxV5MXsT1ZI0kg=s64",
      "userId": "17663649836641339783"
     },
     "user_tz": 300
    },
    "id": "RFYWDo3KjmCq",
    "outputId": "e6c15eae-835f-4d64-cdd4-0e499f89b9b8"
   },
   "outputs": [
    {
     "data": {
      "image/png": "[encoded data removed]",
      "text/plain": [
       "<Figure size 432x288 with 1 Axes>"
      ]
     },
     "metadata": {
      "needs_background": "light",
      "tags": []
     },
     "output_type": "display_data"
    }
   ],
   "source": [
    "from rasterio.plot import show\n",
    "show(Edad);"
   ]
  },
  {
   "cell_type": "code",
   "execution_count": 13,
   "metadata": {
    "colab": {
     "base_uri": "https://localhost:8080/"
    },
    "executionInfo": {
     "elapsed": 7496,
     "status": "ok",
     "timestamp": 1607916047441,
     "user": {
      "displayName": "Giovanny Alejandro C. Londono",
      "photoUrl": "https://lh3.googleusercontent.com/a-/AOh14Gg8qR994zMuGAo8zu82tYlP-H_HfxV5MXsT1ZI0kg=s64",
      "userId": "17663649836641339783"
     },
     "user_tz": 300
    },
    "id": "3wurnUUVtxjl",
    "outputId": "09f4cd97-fe8e-4f57-cf84-da599d9bc328"
   },
   "outputs": [
    {
     "name": "stdout",
     "output_type": "stream",
     "text": [
      "Mean: -3490.327594704971\n",
      "Max: 5209\n",
      "Min: -32768\n"
     ]
    }
   ],
   "source": [
    "# Masked = True sets no data values to np.nan if they are in the metadata\n",
    "Edad_data = Edad.read(1, masked=False) #convierte nuestro raster en un arreglo numpy\n",
    "Edad_meta = Edad.profile\n",
    "# EXPLORE: View summary statistics of canopy height model\n",
    "# Notice the mean value with 0's included in the data\n",
    "print('Mean:', np.nanmean(Edad_data))\n",
    "print('Max:', np.nanmax(Edad_data))\n",
    "print('Min:', np.nanmin(Edad_data))"
   ]
  },
  {
   "cell_type": "code",
   "execution_count": 14,
   "metadata": {
    "colab": {
     "base_uri": "https://localhost:8080/",
     "height": 513
    },
    "executionInfo": {
     "elapsed": 7485,
     "status": "ok",
     "timestamp": 1607916047443,
     "user": {
      "displayName": "Giovanny Alejandro C. Londono",
      "photoUrl": "https://lh3.googleusercontent.com/a-/AOh14Gg8qR994zMuGAo8zu82tYlP-H_HfxV5MXsT1ZI0kg=s64",
      "userId": "17663649836641339783"
     },
     "user_tz": 300
    },
    "id": "jBvrDS1hyfcw",
    "outputId": "17dd1edd-2dff-4331-af5d-e4d276debb04"
   },
   "outputs": [
    {
     "data": {
      "image/png": "[encoded data removed]",
      "text/plain": [
       "<Figure size 576x576 with 1 Axes>"
      ]
     },
     "metadata": {
      "needs_background": "light",
      "tags": []
     },
     "output_type": "display_data"
    }
   ],
   "source": [
    "# Explore the data by plotting a histogram with earthpy\n",
    "ax=ep.hist(Edad_data,\n",
    "           figsize=(8,8), \n",
    "           colors=\"blue\", \n",
    "           xlabel=\"Edad sin corrección\", \n",
    "           ylabel=\"Total Pixels\", \n",
    "           title=\"Histograma de Edades piso Oceánico\");"
   ]
  },
  {
   "cell_type": "code",
   "execution_count": 15,
   "metadata": {
    "colab": {
     "base_uri": "https://localhost:8080/"
    },
    "executionInfo": {
     "elapsed": 7475,
     "status": "ok",
     "timestamp": 1607916047446,
     "user": {
      "displayName": "Giovanny Alejandro C. Londono",
      "photoUrl": "https://lh3.googleusercontent.com/a-/AOh14Gg8qR994zMuGAo8zu82tYlP-H_HfxV5MXsT1ZI0kg=s64",
      "userId": "17663649836641339783"
     },
     "user_tz": 300
    },
    "id": "57YHv_VWyyE0",
    "outputId": "53f3a64a-5d72-41c8-886d-aa48b3eb7979"
   },
   "outputs": [
    {
     "name": "stdout",
     "output_type": "stream",
     "text": [
      "Mean: 7.493006266722997\n",
      "Max: 52.09\n",
      "Min: 0.0\n"
     ]
    }
   ],
   "source": [
    "# CLEANUP: Set CHM values of 0 to NAN (no data or not a number)\n",
    "Edad_data[Edad_data< 0] = 0\n",
    "Edad_data = Edad_data/100\n",
    "\n",
    "# View summary statistics of canopy height model after cleaning up the data\n",
    "print('Mean:', np.nanmean(Edad_data))\n",
    "print('Max:', np.nanmax(Edad_data))\n",
    "print('Min:', np.nanmin(Edad_data))"
   ]
  },
  {
   "cell_type": "code",
   "execution_count": 16,
   "metadata": {
    "colab": {
     "base_uri": "https://localhost:8080/",
     "height": 513
    },
    "executionInfo": {
     "elapsed": 7680,
     "status": "ok",
     "timestamp": 1607916047664,
     "user": {
      "displayName": "Giovanny Alejandro C. Londono",
      "photoUrl": "https://lh3.googleusercontent.com/a-/AOh14Gg8qR994zMuGAo8zu82tYlP-H_HfxV5MXsT1ZI0kg=s64",
      "userId": "17663649836641339783"
     },
     "user_tz": 300
    },
    "id": "XMkVSMkD3gMT",
    "outputId": "7109bb40-94bb-4b60-81f5-2e5efc7eee8a"
   },
   "outputs": [
    {
     "data": {
      "image/png": "[encoded data removed]",
      "text/plain": [
       "<Figure size 576x576 with 1 Axes>"
      ]
     },
     "metadata": {
      "needs_background": "light",
      "tags": []
     },
     "output_type": "display_data"
    }
   ],
   "source": [
    "# Este histograma muestra los valores de px habiendo quitado los valores nulos\n",
    "ax=ep.hist(Edad_data,\n",
    "           figsize=(8,8), \n",
    "           colors=\"purple\", \n",
    "           xlabel=\"Edad (Ma)\", \n",
    "           ylabel=\"Total Pixels\", \n",
    "           title=\"Histograma de Edad piso oceánico\");"
   ]
  },
  {
   "cell_type": "markdown",
   "metadata": {
    "id": "xR6X00-H701M"
   },
   "source": [
    "### Convirtiendo un Arreglo a Raster\n",
    "---\n",
    "\n",
    "Aquí lo que se hizo depues de un día entero de intentos fue:\n",
    "Haivendo convertido los valores de edades de arreglo .read que estaban en un formato que se salía de los valores normales y quitando los valores negativos\n",
    "\n",
    "Importar el arreglo modificado a un nuevo raster.tif"
   ]
  },
  {
   "cell_type": "code",
   "execution_count": 17,
   "metadata": {
    "executionInfo": {
     "elapsed": 7672,
     "status": "ok",
     "timestamp": 1607916047665,
     "user": {
      "displayName": "Giovanny Alejandro C. Londono",
      "photoUrl": "https://lh3.googleusercontent.com/a-/AOh14Gg8qR994zMuGAo8zu82tYlP-H_HfxV5MXsT1ZI0kg=s64",
      "userId": "17663649836641339783"
     },
     "user_tz": 300
    },
    "id": "DOaPX6ElAGEv"
   },
   "outputs": [],
   "source": [
    "from rasterio.transform import from_origin\n",
    "\n",
    "#################################\n",
    "# MUY IMPORTANTE CAMBIAR LOS PARAMETRO IMPUESTO POR EL ARCHIVO PROFILE!!!!! \n",
    "#ME GASTE TODO UN DÍA ENCONTRANDO LA SOLUCIÓN!\n",
    "Edad_meta['nodata']= 0\n",
    "Edad_meta['dtype']= 'float64'\n",
    "#################################\n",
    "\n",
    "#sistema de referencia del raster\n",
    "Sist_ref = Edad.crs\n",
    "#tamaño de pixel en x & y del raster\n",
    "pxsz, pysz = Edad.res\n",
    "#bordes del raster\n",
    "west, south, east, north = Edad.bounds\n",
    "\n",
    "#.from_origin(esquina izq west, esquina supe north, xsize, ysize)\n",
    "transform = from_origin(west, north, pxsz, pysz)\n",
    "\n",
    "#height = Edad_data.shape[0], width = Edad_data.shape[1]\n",
    "new_Edad = rio.open('new_Edad.tif', 'w', **Edad_meta)\n",
    "\n",
    "new_Edad.write(Edad_data, 1)\n",
    "# ES NECESARIO ESTE ÚLTIMO CODIGO PARA QUE SE PUEDA VISALIZAR EL RASTER\n",
    "new_Edad.close()\n"
   ]
  },
  {
   "cell_type": "code",
   "execution_count": 18,
   "metadata": {
    "colab": {
     "base_uri": "https://localhost:8080/",
     "height": 189
    },
    "executionInfo": {
     "elapsed": 8027,
     "status": "ok",
     "timestamp": 1607916048032,
     "user": {
      "displayName": "Giovanny Alejandro C. Londono",
      "photoUrl": "https://lh3.googleusercontent.com/a-/AOh14Gg8qR994zMuGAo8zu82tYlP-H_HfxV5MXsT1ZI0kg=s64",
      "userId": "17663649836641339783"
     },
     "user_tz": 300
    },
    "id": "gqAUxZIjLcnr",
    "outputId": "0d81d92f-12f3-4a09-d245-4fc7bb288381"
   },
   "outputs": [
    {
     "data": {
      "image/png": "[encoded data removed]",
      "text/plain": [
       "<Figure size 432x288 with 1 Axes>"
      ]
     },
     "metadata": {
      "needs_background": "light",
      "tags": []
     },
     "output_type": "display_data"
    }
   ],
   "source": [
    "#Cargamos el tiff de nueva edad de la cuenca Panamá\n",
    "new_Edad = rio.open('new_Edad.tif')\n",
    "\n",
    "from rasterio.plot import show\n",
    "show(new_Edad);"
   ]
  },
  {
   "cell_type": "code",
   "execution_count": 19,
   "metadata": {
    "executionInfo": {
     "elapsed": 8020,
     "status": "ok",
     "timestamp": 1607916048034,
     "user": {
      "displayName": "Giovanny Alejandro C. Londono",
      "photoUrl": "https://lh3.googleusercontent.com/a-/AOh14Gg8qR994zMuGAo8zu82tYlP-H_HfxV5MXsT1ZI0kg=s64",
      "userId": "17663649836641339783"
     },
     "user_tz": 300
    },
    "id": "00vVlMTSCTZ7"
   },
   "outputs": [],
   "source": [
    "# Masked = True sets no data values to np.nan if they are in the metadata\n",
    "Edad_data = new_Edad.read(1, masked=False) #convierte nuestro raster en un arreglo numpy\n",
    "Edad_meta = new_Edad.profile"
   ]
  },
  {
   "cell_type": "code",
   "execution_count": 20,
   "metadata": {
    "colab": {
     "base_uri": "https://localhost:8080/",
     "height": 271
    },
    "executionInfo": {
     "elapsed": 8355,
     "status": "ok",
     "timestamp": 1607916048386,
     "user": {
      "displayName": "Giovanny Alejandro C. Londono",
      "photoUrl": "https://lh3.googleusercontent.com/a-/AOh14Gg8qR994zMuGAo8zu82tYlP-H_HfxV5MXsT1ZI0kg=s64",
      "userId": "17663649836641339783"
     },
     "user_tz": 300
    },
    "id": "TOJ74Og-C57w",
    "outputId": "9d7e72e5-49f4-43c3-9af4-e10f19ca7a73"
   },
   "outputs": [
    {
     "data": {
      "text/plain": [
       "<matplotlib.colorbar.Colorbar at 0x7fe04f914d30>"
      ]
     },
     "execution_count": 20,
     "metadata": {
      "tags": []
     },
     "output_type": "execute_result"
    },
    {
     "data": {
      "image/png": "[encoded data removed]",
      "text/plain": [
       "<Figure size 432x288 with 2 Axes>"
      ]
     },
     "metadata": {
      "needs_background": "light",
      "tags": []
     },
     "output_type": "display_data"
    }
   ],
   "source": [
    "plt.imshow(Edad_data)\n",
    "plt.colorbar()"
   ]
  },
  {
   "cell_type": "markdown",
   "metadata": {
    "id": "Bu4K3ZCxSlk5"
   },
   "source": [
    "## Cargamos los Puntos de flujo de calor\n",
    "---\n",
    "Para esto usamos geopandas"
   ]
  },
  {
   "cell_type": "code",
   "execution_count": 21,
   "metadata": {
    "colab": {
     "base_uri": "https://localhost:8080/",
     "height": 204
    },
    "executionInfo": {
     "elapsed": 8339,
     "status": "ok",
     "timestamp": 1607916048388,
     "user": {
      "displayName": "Giovanny Alejandro C. Londono",
      "photoUrl": "https://lh3.googleusercontent.com/a-/AOh14Gg8qR994zMuGAo8zu82tYlP-H_HfxV5MXsT1ZI0kg=s64",
      "userId": "17663649836641339783"
     },
     "user_tz": 300
    },
    "id": "qJHnxoGDYR_y",
    "outputId": "db57a3e4-b6f5-4896-a708-107773f1b01d"
   },
   "outputs": [
    {
     "data": {
      "text/html": [
       "<div>\n",
       "<style scoped>\n",
       "    .dataframe tbody tr th:only-of-type {\n",
       "        vertical-align: middle;\n",
       "    }\n",
       "\n",
       "    .dataframe tbody tr th {\n",
       "        vertical-align: top;\n",
       "    }\n",
       "\n",
       "    .dataframe thead th {\n",
       "        text-align: right;\n",
       "    }\n",
       "</style>\n",
       "<table border=\"1\" class=\"dataframe\">\n",
       "  <thead>\n",
       "    <tr style=\"text-align: right;\">\n",
       "      <th></th>\n",
       "      <th>Codigo</th>\n",
       "      <th>lon</th>\n",
       "      <th>lat</th>\n",
       "      <th>Profundidad</th>\n",
       "      <th>Flujo_calor</th>\n",
       "      <th>Pesos</th>\n",
       "      <th>Flux_x_wts</th>\n",
       "    </tr>\n",
       "  </thead>\n",
       "  <tbody>\n",
       "    <tr>\n",
       "      <th>0</th>\n",
       "      <td>27HF23</td>\n",
       "      <td>-86.86670</td>\n",
       "      <td>3.537222</td>\n",
       "      <td>-2136.0</td>\n",
       "      <td>65.85</td>\n",
       "      <td>0.942231</td>\n",
       "      <td>62.045937</td>\n",
       "    </tr>\n",
       "    <tr>\n",
       "      <th>1</th>\n",
       "      <td>28HF24</td>\n",
       "      <td>-86.99115</td>\n",
       "      <td>2.950989</td>\n",
       "      <td>-2870.0</td>\n",
       "      <td>267.00</td>\n",
       "      <td>0.792270</td>\n",
       "      <td>211.536033</td>\n",
       "    </tr>\n",
       "    <tr>\n",
       "      <th>2</th>\n",
       "      <td>29HF25</td>\n",
       "      <td>-86.90680</td>\n",
       "      <td>2.720539</td>\n",
       "      <td>-2690.0</td>\n",
       "      <td>211.00</td>\n",
       "      <td>0.792270</td>\n",
       "      <td>167.168925</td>\n",
       "    </tr>\n",
       "    <tr>\n",
       "      <th>3</th>\n",
       "      <td>31HF27</td>\n",
       "      <td>-87.01960</td>\n",
       "      <td>2.150989</td>\n",
       "      <td>-2824.0</td>\n",
       "      <td>187.00</td>\n",
       "      <td>0.660685</td>\n",
       "      <td>123.548114</td>\n",
       "    </tr>\n",
       "    <tr>\n",
       "      <th>4</th>\n",
       "      <td>32HF28</td>\n",
       "      <td>-87.05290</td>\n",
       "      <td>2.034306</td>\n",
       "      <td>-2503.0</td>\n",
       "      <td>234.00</td>\n",
       "      <td>0.660685</td>\n",
       "      <td>154.600314</td>\n",
       "    </tr>\n",
       "  </tbody>\n",
       "</table>\n",
       "</div>"
      ],
      "text/plain": [
       "   Codigo       lon       lat  Profundidad  Flujo_calor     Pesos  Flux_x_wts\n",
       "0  27HF23 -86.86670  3.537222      -2136.0        65.85  0.942231   62.045937\n",
       "1  28HF24 -86.99115  2.950989      -2870.0       267.00  0.792270  211.536033\n",
       "2  29HF25 -86.90680  2.720539      -2690.0       211.00  0.792270  167.168925\n",
       "3  31HF27 -87.01960  2.150989      -2824.0       187.00  0.660685  123.548114\n",
       "4  32HF28 -87.05290  2.034306      -2503.0       234.00  0.660685  154.600314"
      ]
     },
     "execution_count": 21,
     "metadata": {
      "tags": []
     },
     "output_type": "execute_result"
    }
   ],
   "source": [
    "df_Flujo_calor = pd.read_csv('df_Flujo_calor1.csv', index_col= 0)\n",
    "df_Flujo_calor.head()"
   ]
  },
  {
   "cell_type": "code",
   "execution_count": 22,
   "metadata": {
    "colab": {
     "base_uri": "https://localhost:8080/",
     "height": 204
    },
    "executionInfo": {
     "elapsed": 8325,
     "status": "ok",
     "timestamp": 1607916048389,
     "user": {
      "displayName": "Giovanny Alejandro C. Londono",
      "photoUrl": "https://lh3.googleusercontent.com/a-/AOh14Gg8qR994zMuGAo8zu82tYlP-H_HfxV5MXsT1ZI0kg=s64",
      "userId": "17663649836641339783"
     },
     "user_tz": 300
    },
    "id": "Xp4Ril9YRH_e",
    "outputId": "77679274-505f-4aa2-c5ea-dfd5d3d6e038"
   },
   "outputs": [
    {
     "data": {
      "text/html": [
       "<div>\n",
       "<style scoped>\n",
       "    .dataframe tbody tr th:only-of-type {\n",
       "        vertical-align: middle;\n",
       "    }\n",
       "\n",
       "    .dataframe tbody tr th {\n",
       "        vertical-align: top;\n",
       "    }\n",
       "\n",
       "    .dataframe thead th {\n",
       "        text-align: right;\n",
       "    }\n",
       "</style>\n",
       "<table border=\"1\" class=\"dataframe\">\n",
       "  <thead>\n",
       "    <tr style=\"text-align: right;\">\n",
       "      <th></th>\n",
       "      <th>Codigo</th>\n",
       "      <th>lon</th>\n",
       "      <th>lat</th>\n",
       "      <th>Profundidad</th>\n",
       "      <th>Flujo_calor</th>\n",
       "      <th>Pesos</th>\n",
       "      <th>Flux_x_wts</th>\n",
       "      <th>geometry</th>\n",
       "    </tr>\n",
       "  </thead>\n",
       "  <tbody>\n",
       "    <tr>\n",
       "      <th>0</th>\n",
       "      <td>27HF23</td>\n",
       "      <td>-86.86670</td>\n",
       "      <td>3.537222</td>\n",
       "      <td>-2136.0</td>\n",
       "      <td>65.85</td>\n",
       "      <td>0.942231</td>\n",
       "      <td>62.045937</td>\n",
       "      <td>POINT (-86.86670 3.53722)</td>\n",
       "    </tr>\n",
       "    <tr>\n",
       "      <th>1</th>\n",
       "      <td>28HF24</td>\n",
       "      <td>-86.99115</td>\n",
       "      <td>2.950989</td>\n",
       "      <td>-2870.0</td>\n",
       "      <td>267.00</td>\n",
       "      <td>0.792270</td>\n",
       "      <td>211.536033</td>\n",
       "      <td>POINT (-86.99115 2.95099)</td>\n",
       "    </tr>\n",
       "    <tr>\n",
       "      <th>2</th>\n",
       "      <td>29HF25</td>\n",
       "      <td>-86.90680</td>\n",
       "      <td>2.720539</td>\n",
       "      <td>-2690.0</td>\n",
       "      <td>211.00</td>\n",
       "      <td>0.792270</td>\n",
       "      <td>167.168925</td>\n",
       "      <td>POINT (-86.90680 2.72054)</td>\n",
       "    </tr>\n",
       "    <tr>\n",
       "      <th>3</th>\n",
       "      <td>31HF27</td>\n",
       "      <td>-87.01960</td>\n",
       "      <td>2.150989</td>\n",
       "      <td>-2824.0</td>\n",
       "      <td>187.00</td>\n",
       "      <td>0.660685</td>\n",
       "      <td>123.548114</td>\n",
       "      <td>POINT (-87.01960 2.15099)</td>\n",
       "    </tr>\n",
       "    <tr>\n",
       "      <th>4</th>\n",
       "      <td>32HF28</td>\n",
       "      <td>-87.05290</td>\n",
       "      <td>2.034306</td>\n",
       "      <td>-2503.0</td>\n",
       "      <td>234.00</td>\n",
       "      <td>0.660685</td>\n",
       "      <td>154.600314</td>\n",
       "      <td>POINT (-87.05290 2.03431)</td>\n",
       "    </tr>\n",
       "  </tbody>\n",
       "</table>\n",
       "</div>"
      ],
      "text/plain": [
       "   Codigo       lon       lat  ...     Pesos  Flux_x_wts                   geometry\n",
       "0  27HF23 -86.86670  3.537222  ...  0.942231   62.045937  POINT (-86.86670 3.53722)\n",
       "1  28HF24 -86.99115  2.950989  ...  0.792270  211.536033  POINT (-86.99115 2.95099)\n",
       "2  29HF25 -86.90680  2.720539  ...  0.792270  167.168925  POINT (-86.90680 2.72054)\n",
       "3  31HF27 -87.01960  2.150989  ...  0.660685  123.548114  POINT (-87.01960 2.15099)\n",
       "4  32HF28 -87.05290  2.034306  ...  0.660685  154.600314  POINT (-87.05290 2.03431)\n",
       "\n",
       "[5 rows x 8 columns]"
      ]
     },
     "execution_count": 22,
     "metadata": {
      "tags": []
     },
     "output_type": "execute_result"
    }
   ],
   "source": [
    "#con este codigo se crea la columna geometry a partir de las columnas lon y lat de las coordenadas del df\n",
    "Puntos_Flujo_calor = gpd.GeoDataFrame(df_Flujo_calor, geometry=gpd.points_from_xy(df_Flujo_calor.lon, df_Flujo_calor.lat))\n",
    "\n",
    "#Verificamos que se haya creado la columna geometry\n",
    "Puntos_Flujo_calor.head()\n"
   ]
  },
  {
   "cell_type": "code",
   "execution_count": 23,
   "metadata": {
    "colab": {
     "base_uri": "https://localhost:8080/",
     "height": 35
    },
    "executionInfo": {
     "elapsed": 8311,
     "status": "ok",
     "timestamp": 1607916048391,
     "user": {
      "displayName": "Giovanny Alejandro C. Londono",
      "photoUrl": "https://lh3.googleusercontent.com/a-/AOh14Gg8qR994zMuGAo8zu82tYlP-H_HfxV5MXsT1ZI0kg=s64",
      "userId": "17663649836641339783"
     },
     "user_tz": 300
    },
    "id": "oaWS39mdVka5",
    "outputId": "610bc2f7-6b7d-4745-c3ef-c2c5e411931c"
   },
   "outputs": [
    {
     "data": {
      "application/vnd.google.colaboratory.intrinsic+json": {
       "type": "string"
      },
      "text/plain": [
       "'geometry'"
      ]
     },
     "execution_count": 23,
     "metadata": {
      "tags": []
     },
     "output_type": "execute_result"
    }
   ],
   "source": [
    "#verificamos que columna esta tomando como geometry\n",
    "Puntos_Flujo_calor.geometry.name\n"
   ]
  },
  {
   "cell_type": "code",
   "execution_count": 24,
   "metadata": {
    "colab": {
     "base_uri": "https://localhost:8080/",
     "height": 194
    },
    "executionInfo": {
     "elapsed": 8479,
     "status": "ok",
     "timestamp": 1607916048572,
     "user": {
      "displayName": "Giovanny Alejandro C. Londono",
      "photoUrl": "https://lh3.googleusercontent.com/a-/AOh14Gg8qR994zMuGAo8zu82tYlP-H_HfxV5MXsT1ZI0kg=s64",
      "userId": "17663649836641339783"
     },
     "user_tz": 300
    },
    "id": "5WV5h3SaV42k",
    "outputId": "190ea469-824c-4e08-bd38-5ce8024c7eae"
   },
   "outputs": [
    {
     "data": {
      "image/png": "[encoded data removed]",
      "text/plain": [
       "<Figure size 432x288 with 1 Axes>"
      ]
     },
     "metadata": {
      "needs_background": "light",
      "tags": []
     },
     "output_type": "display_data"
    }
   ],
   "source": [
    "#ploteamos los puntos para visualizar el geodataframe\n",
    "ax = Puntos_Flujo_calor.plot()"
   ]
  },
  {
   "cell_type": "code",
   "execution_count": 25,
   "metadata": {
    "colab": {
     "base_uri": "https://localhost:8080/"
    },
    "executionInfo": {
     "elapsed": 8470,
     "status": "ok",
     "timestamp": 1607916048574,
     "user": {
      "displayName": "Giovanny Alejandro C. Londono",
      "photoUrl": "https://lh3.googleusercontent.com/a-/AOh14Gg8qR994zMuGAo8zu82tYlP-H_HfxV5MXsT1ZI0kg=s64",
      "userId": "17663649836641339783"
     },
     "user_tz": 300
    },
    "id": "ny1JNaCjTZC8",
    "outputId": "12b087dc-cbae-4319-f77a-6b0aac65f3e0"
   },
   "outputs": [
    {
     "data": {
      "text/plain": [
       "0    Point\n",
       "1    Point\n",
       "2    Point\n",
       "3    Point\n",
       "4    Point\n",
       "dtype: object"
      ]
     },
     "execution_count": 25,
     "metadata": {
      "tags": []
     },
     "output_type": "execute_result"
    }
   ],
   "source": [
    "# Ensure this is a points layer as you think it is\n",
    "Puntos_Flujo_calor.geom_type.head()"
   ]
  },
  {
   "cell_type": "markdown",
   "metadata": {
    "id": "fhzL4CqJB_Ru"
   },
   "source": [
    "## Adicionamos grosor Sedimentario\n",
    "---"
   ]
  },
  {
   "cell_type": "code",
   "execution_count": 26,
   "metadata": {
    "colab": {
     "base_uri": "https://localhost:8080/",
     "height": 287
    },
    "executionInfo": {
     "elapsed": 8827,
     "status": "ok",
     "timestamp": 1607916048945,
     "user": {
      "displayName": "Giovanny Alejandro C. Londono",
      "photoUrl": "https://lh3.googleusercontent.com/a-/AOh14Gg8qR994zMuGAo8zu82tYlP-H_HfxV5MXsT1ZI0kg=s64",
      "userId": "17663649836641339783"
     },
     "user_tz": 300
    },
    "id": "bjQqkXT-Tuqw",
    "outputId": "f686f6d7-cedd-468b-bd75-086fe3152b30"
   },
   "outputs": [
    {
     "data": {
      "image/png": "[encoded data removed]",
      "text/plain": [
       "<Figure size 720x720 with 2 Axes>"
      ]
     },
     "metadata": {
      "needs_background": "light",
      "tags": []
     },
     "output_type": "display_data"
    }
   ],
   "source": [
    "#miramos a que pixel en el reaster de grosores sedimentarios corresponde nuestro puntos de flujo de calor\n",
    "from rasterio.plot import plotting_extent\n",
    "\n",
    "fig, ax = plt.subplots(figsize=(10, 10))\n",
    "\n",
    "ep.plot_bands(thickness_sed_data,\n",
    "              extent=plotting_extent(thickness_sed), # Set spatial extent \n",
    "              cmap='BrBG',\n",
    "              title=\"Cuenca Panamá \\n Puntos de calor en grosor sedimentario\",\n",
    "              scale=False,\n",
    "              ax=ax)\n",
    "\n",
    "Puntos_Flujo_calor.plot(ax=ax,\n",
    "                       marker='s',\n",
    "                       markersize=45,\n",
    "                       color='blue')\n",
    "ax.set_axis_off()\n",
    "plt.show()"
   ]
  },
  {
   "cell_type": "code",
   "execution_count": 27,
   "metadata": {
    "colab": {
     "base_uri": "https://localhost:8080/",
     "height": 204
    },
    "executionInfo": {
     "elapsed": 8991,
     "status": "ok",
     "timestamp": 1607916049122,
     "user": {
      "displayName": "Giovanny Alejandro C. Londono",
      "photoUrl": "https://lh3.googleusercontent.com/a-/AOh14Gg8qR994zMuGAo8zu82tYlP-H_HfxV5MXsT1ZI0kg=s64",
      "userId": "17663649836641339783"
     },
     "user_tz": 300
    },
    "id": "ZWxVjqDffdcq",
    "outputId": "3e1615e9-1277-452c-8610-2031de4f3b34"
   },
   "outputs": [
    {
     "data": {
      "text/html": [
       "<div>\n",
       "<style scoped>\n",
       "    .dataframe tbody tr th:only-of-type {\n",
       "        vertical-align: middle;\n",
       "    }\n",
       "\n",
       "    .dataframe tbody tr th {\n",
       "        vertical-align: top;\n",
       "    }\n",
       "\n",
       "    .dataframe thead th {\n",
       "        text-align: right;\n",
       "    }\n",
       "</style>\n",
       "<table border=\"1\" class=\"dataframe\">\n",
       "  <thead>\n",
       "    <tr style=\"text-align: right;\">\n",
       "      <th></th>\n",
       "      <th>Codigo</th>\n",
       "      <th>lon</th>\n",
       "      <th>lat</th>\n",
       "      <th>Profundidad</th>\n",
       "      <th>Flujo_calor</th>\n",
       "      <th>Pesos</th>\n",
       "      <th>Flux_x_wts</th>\n",
       "      <th>geometry</th>\n",
       "      <th>Sed_thickness (m)</th>\n",
       "    </tr>\n",
       "  </thead>\n",
       "  <tbody>\n",
       "    <tr>\n",
       "      <th>0</th>\n",
       "      <td>27HF23</td>\n",
       "      <td>-86.86670</td>\n",
       "      <td>3.537222</td>\n",
       "      <td>-2136.0</td>\n",
       "      <td>65.85</td>\n",
       "      <td>0.942231</td>\n",
       "      <td>62.045937</td>\n",
       "      <td>POINT (-86.86670 3.53722)</td>\n",
       "      <td>279.0</td>\n",
       "    </tr>\n",
       "    <tr>\n",
       "      <th>1</th>\n",
       "      <td>28HF24</td>\n",
       "      <td>-86.99115</td>\n",
       "      <td>2.950989</td>\n",
       "      <td>-2870.0</td>\n",
       "      <td>267.00</td>\n",
       "      <td>0.792270</td>\n",
       "      <td>211.536033</td>\n",
       "      <td>POINT (-86.99115 2.95099)</td>\n",
       "      <td>211.0</td>\n",
       "    </tr>\n",
       "    <tr>\n",
       "      <th>2</th>\n",
       "      <td>29HF25</td>\n",
       "      <td>-86.90680</td>\n",
       "      <td>2.720539</td>\n",
       "      <td>-2690.0</td>\n",
       "      <td>211.00</td>\n",
       "      <td>0.792270</td>\n",
       "      <td>167.168925</td>\n",
       "      <td>POINT (-86.90680 2.72054)</td>\n",
       "      <td>203.0</td>\n",
       "    </tr>\n",
       "    <tr>\n",
       "      <th>3</th>\n",
       "      <td>31HF27</td>\n",
       "      <td>-87.01960</td>\n",
       "      <td>2.150989</td>\n",
       "      <td>-2824.0</td>\n",
       "      <td>187.00</td>\n",
       "      <td>0.660685</td>\n",
       "      <td>123.548114</td>\n",
       "      <td>POINT (-87.01960 2.15099)</td>\n",
       "      <td>159.0</td>\n",
       "    </tr>\n",
       "    <tr>\n",
       "      <th>4</th>\n",
       "      <td>32HF28</td>\n",
       "      <td>-87.05290</td>\n",
       "      <td>2.034306</td>\n",
       "      <td>-2503.0</td>\n",
       "      <td>234.00</td>\n",
       "      <td>0.660685</td>\n",
       "      <td>154.600314</td>\n",
       "      <td>POINT (-87.05290 2.03431)</td>\n",
       "      <td>145.0</td>\n",
       "    </tr>\n",
       "  </tbody>\n",
       "</table>\n",
       "</div>"
      ],
      "text/plain": [
       "   Codigo       lon  ...                   geometry  Sed_thickness (m)\n",
       "0  27HF23 -86.86670  ...  POINT (-86.86670 3.53722)              279.0\n",
       "1  28HF24 -86.99115  ...  POINT (-86.99115 2.95099)              211.0\n",
       "2  29HF25 -86.90680  ...  POINT (-86.90680 2.72054)              203.0\n",
       "3  31HF27 -87.01960  ...  POINT (-87.01960 2.15099)              159.0\n",
       "4  32HF28 -87.05290  ...  POINT (-87.05290 2.03431)              145.0\n",
       "\n",
       "[5 rows x 9 columns]"
      ]
     },
     "execution_count": 27,
     "metadata": {
      "tags": []
     },
     "output_type": "execute_result"
    }
   ],
   "source": [
    "# Extraemos las coordenadas del Dataframe en una lista\n",
    "coords = [(x,y) for x, y in zip(df_Flujo_calor.lon, df_Flujo_calor.lat)]\n",
    "\n",
    "# Con este codigo muestramos los vaores de px en el raster y se lo agregamos al data frame\n",
    "df_Flujo_calor['Sed_thickness (m)'] = [x for x in thickness_sed.sample(coords)]\n",
    "df_Flujo_calor = df_Flujo_calor.astype({'Sed_thickness (m)': float})\n",
    "df_Flujo_calor['Sed_thickness (m)'] = list(map(lambda x : round(x, 1), df_Flujo_calor['Sed_thickness (m)']))\n",
    "\n",
    "df_Flujo_calor.head()"
   ]
  },
  {
   "cell_type": "markdown",
   "metadata": {
    "id": "GaTBtxfZBlTy"
   },
   "source": [
    "## Adicionamos Edad\n",
    "---\n"
   ]
  },
  {
   "cell_type": "code",
   "execution_count": 28,
   "metadata": {
    "colab": {
     "base_uri": "https://localhost:8080/",
     "height": 288
    },
    "executionInfo": {
     "elapsed": 9361,
     "status": "ok",
     "timestamp": 1607916049509,
     "user": {
      "displayName": "Giovanny Alejandro C. Londono",
      "photoUrl": "https://lh3.googleusercontent.com/a-/AOh14Gg8qR994zMuGAo8zu82tYlP-H_HfxV5MXsT1ZI0kg=s64",
      "userId": "17663649836641339783"
     },
     "user_tz": 300
    },
    "id": "OpfSuCtiCKrf",
    "outputId": "fb380c8c-eba3-48ff-ecb8-f410023a80f9"
   },
   "outputs": [
    {
     "data": {
      "image/png": "[encoded data removed]",
      "text/plain": [
       "<Figure size 720x720 with 2 Axes>"
      ]
     },
     "metadata": {
      "needs_background": "light",
      "tags": []
     },
     "output_type": "display_data"
    }
   ],
   "source": [
    "#miramos a que pixel en el reaster de grosores sedimentarios corresponde nuestro puntos de flujo de calor\n",
    "from rasterio.plot import plotting_extent\n",
    "\n",
    "fig, ax = plt.subplots(figsize=(10, 10))\n",
    "\n",
    "ep.plot_bands(Edad_data,\n",
    "              extent=plotting_extent(new_Edad), # Set spatial extent \n",
    "              cmap='BrBG',\n",
    "              title=\"Cuenca Panamá \\n Puntos de calor en Edad del piso oceánico\",\n",
    "              scale=False,\n",
    "              ax=ax)\n",
    "\n",
    "Puntos_Flujo_calor.plot(ax=ax,\n",
    "                       marker='s',\n",
    "                       markersize=45,\n",
    "                       color='blue')\n",
    "ax.set_axis_off()\n",
    "plt.show()"
   ]
  },
  {
   "cell_type": "code",
   "execution_count": 29,
   "metadata": {
    "colab": {
     "base_uri": "https://localhost:8080/",
     "height": 306
    },
    "executionInfo": {
     "elapsed": 9351,
     "status": "ok",
     "timestamp": 1607916049513,
     "user": {
      "displayName": "Giovanny Alejandro C. Londono",
      "photoUrl": "https://lh3.googleusercontent.com/a-/AOh14Gg8qR994zMuGAo8zu82tYlP-H_HfxV5MXsT1ZI0kg=s64",
      "userId": "17663649836641339783"
     },
     "user_tz": 300
    },
    "id": "fVPUfQxzFVcg",
    "outputId": "801b4503-63f1-419a-d664-4ad56792de3d"
   },
   "outputs": [
    {
     "data": {
      "text/html": [
       "<div>\n",
       "<style scoped>\n",
       "    .dataframe tbody tr th:only-of-type {\n",
       "        vertical-align: middle;\n",
       "    }\n",
       "\n",
       "    .dataframe tbody tr th {\n",
       "        vertical-align: top;\n",
       "    }\n",
       "\n",
       "    .dataframe thead th {\n",
       "        text-align: right;\n",
       "    }\n",
       "</style>\n",
       "<table border=\"1\" class=\"dataframe\">\n",
       "  <thead>\n",
       "    <tr style=\"text-align: right;\">\n",
       "      <th></th>\n",
       "      <th>Codigo</th>\n",
       "      <th>lon</th>\n",
       "      <th>lat</th>\n",
       "      <th>Profundidad</th>\n",
       "      <th>Flujo_calor</th>\n",
       "      <th>Pesos</th>\n",
       "      <th>Flux_x_wts</th>\n",
       "      <th>geometry</th>\n",
       "      <th>Sed_thickness (m)</th>\n",
       "      <th>Age (Ma)</th>\n",
       "    </tr>\n",
       "  </thead>\n",
       "  <tbody>\n",
       "    <tr>\n",
       "      <th>0</th>\n",
       "      <td>27HF23</td>\n",
       "      <td>-86.86670</td>\n",
       "      <td>3.537222</td>\n",
       "      <td>-2136.0</td>\n",
       "      <td>65.85</td>\n",
       "      <td>0.942231</td>\n",
       "      <td>62.045937</td>\n",
       "      <td>POINT (-86.86670 3.53722)</td>\n",
       "      <td>279.0</td>\n",
       "      <td>10.1</td>\n",
       "    </tr>\n",
       "    <tr>\n",
       "      <th>1</th>\n",
       "      <td>28HF24</td>\n",
       "      <td>-86.99115</td>\n",
       "      <td>2.950989</td>\n",
       "      <td>-2870.0</td>\n",
       "      <td>267.00</td>\n",
       "      <td>0.792270</td>\n",
       "      <td>211.536033</td>\n",
       "      <td>POINT (-86.99115 2.95099)</td>\n",
       "      <td>211.0</td>\n",
       "      <td>7.6</td>\n",
       "    </tr>\n",
       "    <tr>\n",
       "      <th>2</th>\n",
       "      <td>29HF25</td>\n",
       "      <td>-86.90680</td>\n",
       "      <td>2.720539</td>\n",
       "      <td>-2690.0</td>\n",
       "      <td>211.00</td>\n",
       "      <td>0.792270</td>\n",
       "      <td>167.168925</td>\n",
       "      <td>POINT (-86.90680 2.72054)</td>\n",
       "      <td>203.0</td>\n",
       "      <td>5.9</td>\n",
       "    </tr>\n",
       "    <tr>\n",
       "      <th>3</th>\n",
       "      <td>31HF27</td>\n",
       "      <td>-87.01960</td>\n",
       "      <td>2.150989</td>\n",
       "      <td>-2824.0</td>\n",
       "      <td>187.00</td>\n",
       "      <td>0.660685</td>\n",
       "      <td>123.548114</td>\n",
       "      <td>POINT (-87.01960 2.15099)</td>\n",
       "      <td>159.0</td>\n",
       "      <td>3.6</td>\n",
       "    </tr>\n",
       "    <tr>\n",
       "      <th>4</th>\n",
       "      <td>32HF28</td>\n",
       "      <td>-87.05290</td>\n",
       "      <td>2.034306</td>\n",
       "      <td>-2503.0</td>\n",
       "      <td>234.00</td>\n",
       "      <td>0.660685</td>\n",
       "      <td>154.600314</td>\n",
       "      <td>POINT (-87.05290 2.03431)</td>\n",
       "      <td>145.0</td>\n",
       "      <td>3.1</td>\n",
       "    </tr>\n",
       "  </tbody>\n",
       "</table>\n",
       "</div>"
      ],
      "text/plain": [
       "   Codigo       lon  ...  Sed_thickness (m)  Age (Ma)\n",
       "0  27HF23 -86.86670  ...              279.0      10.1\n",
       "1  28HF24 -86.99115  ...              211.0       7.6\n",
       "2  29HF25 -86.90680  ...              203.0       5.9\n",
       "3  31HF27 -87.01960  ...              159.0       3.6\n",
       "4  32HF28 -87.05290  ...              145.0       3.1\n",
       "\n",
       "[5 rows x 10 columns]"
      ]
     },
     "execution_count": 29,
     "metadata": {
      "tags": []
     },
     "output_type": "execute_result"
    }
   ],
   "source": [
    "# Extraemos las coordenadas del Dataframe en una lista\n",
    "coords = [(x,y) for x, y in zip(df_Flujo_calor.lon, df_Flujo_calor.lat)]\n",
    "\n",
    "# Con este codigo muestramos los vaores de px en el raster y se lo agregamos al data frame\n",
    "df_Flujo_calor['Age (Ma)'] = [x for x in new_Edad.sample(coords)]\n",
    "df_Flujo_calor = df_Flujo_calor.astype({'Age (Ma)': float})\n",
    "df_Flujo_calor['Age (Ma)'] = list(map(lambda x : round(x, 1), df_Flujo_calor['Age (Ma)']))\n",
    "\n",
    "df_Flujo_calor.head()"
   ]
  },
  {
   "cell_type": "code",
   "execution_count": 30,
   "metadata": {
    "colab": {
     "base_uri": "https://localhost:8080/"
    },
    "executionInfo": {
     "elapsed": 9342,
     "status": "ok",
     "timestamp": 1607916049515,
     "user": {
      "displayName": "Giovanny Alejandro C. Londono",
      "photoUrl": "https://lh3.googleusercontent.com/a-/AOh14Gg8qR994zMuGAo8zu82tYlP-H_HfxV5MXsT1ZI0kg=s64",
      "userId": "17663649836641339783"
     },
     "user_tz": 300
    },
    "id": "N75ktg0aKP0o",
    "outputId": "7e277b0e-b390-4af5-b720-3ab3347ca634"
   },
   "outputs": [
    {
     "data": {
      "text/plain": [
       "Codigo               0\n",
       "lon                  0\n",
       "lat                  0\n",
       "Profundidad          0\n",
       "Flujo_calor          0\n",
       "Pesos                0\n",
       "Flux_x_wts           0\n",
       "geometry             0\n",
       "Sed_thickness (m)    0\n",
       "Age (Ma)             3\n",
       "dtype: int64"
      ]
     },
     "execution_count": 30,
     "metadata": {
      "tags": []
     },
     "output_type": "execute_result"
    }
   ],
   "source": [
    "#Sin embargo quedaron 3 edades en cero dado que algunos valores de flujo de calor se salían del raster de edades\n",
    "zeros = df_Flujo_calor == 0\n",
    "zeros.sum()"
   ]
  },
  {
   "cell_type": "code",
   "execution_count": 31,
   "metadata": {
    "colab": {
     "base_uri": "https://localhost:8080/"
    },
    "executionInfo": {
     "elapsed": 9333,
     "status": "ok",
     "timestamp": 1607916049518,
     "user": {
      "displayName": "Giovanny Alejandro C. Londono",
      "photoUrl": "https://lh3.googleusercontent.com/a-/AOh14Gg8qR994zMuGAo8zu82tYlP-H_HfxV5MXsT1ZI0kg=s64",
      "userId": "17663649836641339783"
     },
     "user_tz": 300
    },
    "id": "zFh4ePCqPFas",
    "outputId": "f6386aa1-d71b-48f9-d920-e960468f06dd"
   },
   "outputs": [
    {
     "data": {
      "text/plain": [
       "(1052, 10)"
      ]
     },
     "execution_count": 31,
     "metadata": {
      "tags": []
     },
     "output_type": "execute_result"
    }
   ],
   "source": [
    "df_Flujo_calor.shape"
   ]
  },
  {
   "cell_type": "code",
   "execution_count": 32,
   "metadata": {
    "colab": {
     "base_uri": "https://localhost:8080/"
    },
    "executionInfo": {
     "elapsed": 9571,
     "status": "ok",
     "timestamp": 1607916049766,
     "user": {
      "displayName": "Giovanny Alejandro C. Londono",
      "photoUrl": "https://lh3.googleusercontent.com/a-/AOh14Gg8qR994zMuGAo8zu82tYlP-H_HfxV5MXsT1ZI0kg=s64",
      "userId": "17663649836641339783"
     },
     "user_tz": 300
    },
    "id": "kH5nIVt7NWl_",
    "outputId": "26b26c34-95bf-4fad-d3a0-61f83d497c35"
   },
   "outputs": [
    {
     "data": {
      "text/plain": [
       "Codigo               0\n",
       "lon                  0\n",
       "lat                  0\n",
       "Profundidad          0\n",
       "Flujo_calor          0\n",
       "Pesos                0\n",
       "Flux_x_wts           0\n",
       "geometry             0\n",
       "Sed_thickness (m)    0\n",
       "Age (Ma)             0\n",
       "dtype: int64"
      ]
     },
     "execution_count": 32,
     "metadata": {
      "tags": []
     },
     "output_type": "execute_result"
    }
   ],
   "source": [
    "#Elimina las filas con valores iguales a cero en este caso elimina 3 filas\n",
    "df_Flujo_calor = df_Flujo_calor[(df_Flujo_calor != 0).all(1)]\n",
    "zeros = df_Flujo_calor == 0\n",
    "zeros.sum()"
   ]
  },
  {
   "cell_type": "code",
   "execution_count": 33,
   "metadata": {
    "colab": {
     "base_uri": "https://localhost:8080/"
    },
    "executionInfo": {
     "elapsed": 9563,
     "status": "ok",
     "timestamp": 1607916049769,
     "user": {
      "displayName": "Giovanny Alejandro C. Londono",
      "photoUrl": "https://lh3.googleusercontent.com/a-/AOh14Gg8qR994zMuGAo8zu82tYlP-H_HfxV5MXsT1ZI0kg=s64",
      "userId": "17663649836641339783"
     },
     "user_tz": 300
    },
    "id": "JqbfxyXCQkxJ",
    "outputId": "d81f2810-039e-4b3e-cbfd-3d7d90c44480"
   },
   "outputs": [
    {
     "data": {
      "text/plain": [
       "(1049, 10)"
      ]
     },
     "execution_count": 33,
     "metadata": {
      "tags": []
     },
     "output_type": "execute_result"
    }
   ],
   "source": [
    "#filas eliminadas: 3\n",
    "df_Flujo_calor.shape"
   ]
  },
  {
   "cell_type": "code",
   "execution_count": 34,
   "metadata": {
    "colab": {
     "base_uri": "https://localhost:8080/",
     "height": 306
    },
    "executionInfo": {
     "elapsed": 9554,
     "status": "ok",
     "timestamp": 1607916049771,
     "user": {
      "displayName": "Giovanny Alejandro C. Londono",
      "photoUrl": "https://lh3.googleusercontent.com/a-/AOh14Gg8qR994zMuGAo8zu82tYlP-H_HfxV5MXsT1ZI0kg=s64",
      "userId": "17663649836641339783"
     },
     "user_tz": 300
    },
    "id": "8X1uFUFkOfx-",
    "outputId": "eb0ff126-08dc-4602-87a6-719e9a16a10a"
   },
   "outputs": [
    {
     "data": {
      "text/html": [
       "<div>\n",
       "<style scoped>\n",
       "    .dataframe tbody tr th:only-of-type {\n",
       "        vertical-align: middle;\n",
       "    }\n",
       "\n",
       "    .dataframe tbody tr th {\n",
       "        vertical-align: top;\n",
       "    }\n",
       "\n",
       "    .dataframe thead th {\n",
       "        text-align: right;\n",
       "    }\n",
       "</style>\n",
       "<table border=\"1\" class=\"dataframe\">\n",
       "  <thead>\n",
       "    <tr style=\"text-align: right;\">\n",
       "      <th></th>\n",
       "      <th>Codigo</th>\n",
       "      <th>lon</th>\n",
       "      <th>lat</th>\n",
       "      <th>Profundidad</th>\n",
       "      <th>Flujo_calor</th>\n",
       "      <th>Pesos</th>\n",
       "      <th>Flux_x_wts</th>\n",
       "      <th>geometry</th>\n",
       "      <th>Sed_thickness (m)</th>\n",
       "      <th>Age (Ma)</th>\n",
       "    </tr>\n",
       "  </thead>\n",
       "  <tbody>\n",
       "    <tr>\n",
       "      <th>0</th>\n",
       "      <td>27HF23</td>\n",
       "      <td>-86.86670</td>\n",
       "      <td>3.537222</td>\n",
       "      <td>-2136.0</td>\n",
       "      <td>65.85</td>\n",
       "      <td>0.942231</td>\n",
       "      <td>62.045937</td>\n",
       "      <td>POINT (-86.86670 3.53722)</td>\n",
       "      <td>279.0</td>\n",
       "      <td>10.1</td>\n",
       "    </tr>\n",
       "    <tr>\n",
       "      <th>1</th>\n",
       "      <td>28HF24</td>\n",
       "      <td>-86.99115</td>\n",
       "      <td>2.950989</td>\n",
       "      <td>-2870.0</td>\n",
       "      <td>267.00</td>\n",
       "      <td>0.792270</td>\n",
       "      <td>211.536033</td>\n",
       "      <td>POINT (-86.99115 2.95099)</td>\n",
       "      <td>211.0</td>\n",
       "      <td>7.6</td>\n",
       "    </tr>\n",
       "    <tr>\n",
       "      <th>2</th>\n",
       "      <td>29HF25</td>\n",
       "      <td>-86.90680</td>\n",
       "      <td>2.720539</td>\n",
       "      <td>-2690.0</td>\n",
       "      <td>211.00</td>\n",
       "      <td>0.792270</td>\n",
       "      <td>167.168925</td>\n",
       "      <td>POINT (-86.90680 2.72054)</td>\n",
       "      <td>203.0</td>\n",
       "      <td>5.9</td>\n",
       "    </tr>\n",
       "    <tr>\n",
       "      <th>3</th>\n",
       "      <td>31HF27</td>\n",
       "      <td>-87.01960</td>\n",
       "      <td>2.150989</td>\n",
       "      <td>-2824.0</td>\n",
       "      <td>187.00</td>\n",
       "      <td>0.660685</td>\n",
       "      <td>123.548114</td>\n",
       "      <td>POINT (-87.01960 2.15099)</td>\n",
       "      <td>159.0</td>\n",
       "      <td>3.6</td>\n",
       "    </tr>\n",
       "    <tr>\n",
       "      <th>4</th>\n",
       "      <td>32HF28</td>\n",
       "      <td>-87.05290</td>\n",
       "      <td>2.034306</td>\n",
       "      <td>-2503.0</td>\n",
       "      <td>234.00</td>\n",
       "      <td>0.660685</td>\n",
       "      <td>154.600314</td>\n",
       "      <td>POINT (-87.05290 2.03431)</td>\n",
       "      <td>145.0</td>\n",
       "      <td>3.1</td>\n",
       "    </tr>\n",
       "  </tbody>\n",
       "</table>\n",
       "</div>"
      ],
      "text/plain": [
       "   Codigo       lon  ...  Sed_thickness (m)  Age (Ma)\n",
       "0  27HF23 -86.86670  ...              279.0      10.1\n",
       "1  28HF24 -86.99115  ...              211.0       7.6\n",
       "2  29HF25 -86.90680  ...              203.0       5.9\n",
       "3  31HF27 -87.01960  ...              159.0       3.6\n",
       "4  32HF28 -87.05290  ...              145.0       3.1\n",
       "\n",
       "[5 rows x 10 columns]"
      ]
     },
     "execution_count": 34,
     "metadata": {
      "tags": []
     },
     "output_type": "execute_result"
    }
   ],
   "source": [
    "df_Flujo_calor.head()"
   ]
  },
  {
   "cell_type": "code",
   "execution_count": 35,
   "metadata": {
    "colab": {
     "base_uri": "https://localhost:8080/",
     "height": 17
    },
    "executionInfo": {
     "elapsed": 9545,
     "status": "ok",
     "timestamp": 1607916049773,
     "user": {
      "displayName": "Giovanny Alejandro C. Londono",
      "photoUrl": "https://lh3.googleusercontent.com/a-/AOh14Gg8qR994zMuGAo8zu82tYlP-H_HfxV5MXsT1ZI0kg=s64",
      "userId": "17663649836641339783"
     },
     "user_tz": 300
    },
    "id": "72CK9K3uqmiU",
    "outputId": "0fd4ec44-2f3d-4f5a-8f64-fe7b49e8e42f"
   },
   "outputs": [
    {
     "data": {
      "application/javascript": [
       "\n",
       "    async function download(id, filename, size) {\n",
       "      if (!google.colab.kernel.accessAllowed) {\n",
       "        return;\n",
       "      }\n",
       "      const div = document.createElement('div');\n",
       "      const label = document.createElement('label');\n",
       "      label.textContent = `Downloading \"${filename}\": `;\n",
       "      div.appendChild(label);\n",
       "      const progress = document.createElement('progress');\n",
       "      progress.max = size;\n",
       "      div.appendChild(progress);\n",
       "      document.body.appendChild(div);\n",
       "\n",
       "      const buffers = [];\n",
       "      let downloaded = 0;\n",
       "\n",
       "      const channel = await google.colab.kernel.comms.open(id);\n",
       "      // Send a message to notify the kernel that we're ready.\n",
       "      channel.send({})\n",
       "\n",
       "      for await (const message of channel.messages) {\n",
       "        // Send a message to notify the kernel that we're ready.\n",
       "        channel.send({})\n",
       "        if (message.buffers) {\n",
       "          for (const buffer of message.buffers) {\n",
       "            buffers.push(buffer);\n",
       "            downloaded += buffer.byteLength;\n",
       "            progress.value = downloaded;\n",
       "          }\n",
       "        }\n",
       "      }\n",
       "      const blob = new Blob(buffers, {type: 'application/binary'});\n",
       "      const a = document.createElement('a');\n",
       "      a.href = window.URL.createObjectURL(blob);\n",
       "      a.download = filename;\n",
       "      div.appendChild(a);\n",
       "      a.click();\n",
       "      div.remove();\n",
       "    }\n",
       "  "
      ],
      "text/plain": [
       "<IPython.core.display.Javascript object>"
      ]
     },
     "metadata": {
      "tags": []
     },
     "output_type": "display_data"
    },
    {
     "data": {
      "application/javascript": [
       "download(\"download_1cb2f75c-1950-429c-aa64-ad5d93408e76\", \"df_Flujo_calor2.csv\", 139075)"
      ],
      "text/plain": [
       "<IPython.core.display.Javascript object>"
      ]
     },
     "metadata": {
      "tags": []
     },
     "output_type": "display_data"
    }
   ],
   "source": [
    "from google.colab import files\n",
    "\n",
    "df_Flujo_calor.to_csv('df_Flujo_calor2.csv')\n",
    "files.download('df_Flujo_calor2.csv')"
   ]
  }
 ],
 "metadata": {
  "colab": {
   "authorship_tag": "ABX9TyPRbJsdSQJz9ZI88HuvcsyJ",
   "name": "SIG Heat Flow.ipynb",
   "provenance": []
  },
  "kernelspec": {
   "display_name": "Python 3",
   "language": "python",
   "name": "python3"
  },
  "language_info": {
   "codemirror_mode": {
    "name": "ipython",
    "version": 3
   },
   "file_extension": ".py",
   "mimetype": "text/x-python",
   "name": "python",
   "nbconvert_exporter": "python",
   "pygments_lexer": "ipython3",
   "version": "3.8.3"
  }
 },
 "nbformat": 4,
 "nbformat_minor": 1
}
